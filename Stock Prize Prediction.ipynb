{
 "cells": [
  {
   "cell_type": "code",
   "execution_count": 1,
   "metadata": {},
   "outputs": [],
   "source": [
    "import pandas_datareader as pdr\n",
    "import numpy as np\n",
    "import pandas as pd"
   ]
  },
  {
   "cell_type": "code",
   "execution_count": 2,
   "metadata": {},
   "outputs": [],
   "source": [
    "df=pdr.get_data_tiingo('GOOGL', api_key='a830a0b67bf989855f7e90758a395eff7e36c860')"
   ]
  },
  {
   "cell_type": "code",
   "execution_count": 3,
   "metadata": {},
   "outputs": [],
   "source": [
    "df.to_csv(\"GOOGL.csv\")"
   ]
  },
  {
   "cell_type": "code",
   "execution_count": 4,
   "metadata": {},
   "outputs": [
    {
     "data": {
      "text/html": [
       "<div>\n",
       "<style scoped>\n",
       "    .dataframe tbody tr th:only-of-type {\n",
       "        vertical-align: middle;\n",
       "    }\n",
       "\n",
       "    .dataframe tbody tr th {\n",
       "        vertical-align: top;\n",
       "    }\n",
       "\n",
       "    .dataframe thead th {\n",
       "        text-align: right;\n",
       "    }\n",
       "</style>\n",
       "<table border=\"1\" class=\"dataframe\">\n",
       "  <thead>\n",
       "    <tr style=\"text-align: right;\">\n",
       "      <th></th>\n",
       "      <th></th>\n",
       "      <th>close</th>\n",
       "      <th>high</th>\n",
       "      <th>low</th>\n",
       "      <th>open</th>\n",
       "      <th>volume</th>\n",
       "      <th>adjClose</th>\n",
       "      <th>adjHigh</th>\n",
       "      <th>adjLow</th>\n",
       "      <th>adjOpen</th>\n",
       "      <th>adjVolume</th>\n",
       "      <th>divCash</th>\n",
       "      <th>splitFactor</th>\n",
       "    </tr>\n",
       "    <tr>\n",
       "      <th>symbol</th>\n",
       "      <th>date</th>\n",
       "      <th></th>\n",
       "      <th></th>\n",
       "      <th></th>\n",
       "      <th></th>\n",
       "      <th></th>\n",
       "      <th></th>\n",
       "      <th></th>\n",
       "      <th></th>\n",
       "      <th></th>\n",
       "      <th></th>\n",
       "      <th></th>\n",
       "      <th></th>\n",
       "    </tr>\n",
       "  </thead>\n",
       "  <tbody>\n",
       "    <tr>\n",
       "      <th rowspan=\"5\" valign=\"top\">GOOGL</th>\n",
       "      <th>2015-11-02 00:00:00+00:00</th>\n",
       "      <td>747.74</td>\n",
       "      <td>748.180</td>\n",
       "      <td>731.45</td>\n",
       "      <td>737.88</td>\n",
       "      <td>1995708</td>\n",
       "      <td>747.74</td>\n",
       "      <td>748.180</td>\n",
       "      <td>731.45</td>\n",
       "      <td>737.88</td>\n",
       "      <td>1995708</td>\n",
       "      <td>0.0</td>\n",
       "      <td>1.0</td>\n",
       "    </tr>\n",
       "    <tr>\n",
       "      <th>2015-11-03 00:00:00+00:00</th>\n",
       "      <td>748.82</td>\n",
       "      <td>751.698</td>\n",
       "      <td>741.16</td>\n",
       "      <td>745.43</td>\n",
       "      <td>1815300</td>\n",
       "      <td>748.82</td>\n",
       "      <td>751.698</td>\n",
       "      <td>741.16</td>\n",
       "      <td>745.43</td>\n",
       "      <td>1815300</td>\n",
       "      <td>0.0</td>\n",
       "      <td>1.0</td>\n",
       "    </tr>\n",
       "    <tr>\n",
       "      <th>2015-11-04 00:00:00+00:00</th>\n",
       "      <td>755.31</td>\n",
       "      <td>759.900</td>\n",
       "      <td>749.20</td>\n",
       "      <td>749.90</td>\n",
       "      <td>2091999</td>\n",
       "      <td>755.31</td>\n",
       "      <td>759.900</td>\n",
       "      <td>749.20</td>\n",
       "      <td>749.90</td>\n",
       "      <td>2091999</td>\n",
       "      <td>0.0</td>\n",
       "      <td>1.0</td>\n",
       "    </tr>\n",
       "    <tr>\n",
       "      <th>2015-11-05 00:00:00+00:00</th>\n",
       "      <td>760.67</td>\n",
       "      <td>766.350</td>\n",
       "      <td>757.47</td>\n",
       "      <td>758.81</td>\n",
       "      <td>2274314</td>\n",
       "      <td>760.67</td>\n",
       "      <td>766.350</td>\n",
       "      <td>757.47</td>\n",
       "      <td>758.81</td>\n",
       "      <td>2274314</td>\n",
       "      <td>0.0</td>\n",
       "      <td>1.0</td>\n",
       "    </tr>\n",
       "    <tr>\n",
       "      <th>2015-11-06 00:00:00+00:00</th>\n",
       "      <td>761.60</td>\n",
       "      <td>763.022</td>\n",
       "      <td>755.03</td>\n",
       "      <td>759.39</td>\n",
       "      <td>1677199</td>\n",
       "      <td>761.60</td>\n",
       "      <td>763.022</td>\n",
       "      <td>755.03</td>\n",
       "      <td>759.39</td>\n",
       "      <td>1677199</td>\n",
       "      <td>0.0</td>\n",
       "      <td>1.0</td>\n",
       "    </tr>\n",
       "  </tbody>\n",
       "</table>\n",
       "</div>"
      ],
      "text/plain": [
       "                                   close     high     low    open   volume  \\\n",
       "symbol date                                                                  \n",
       "GOOGL  2015-11-02 00:00:00+00:00  747.74  748.180  731.45  737.88  1995708   \n",
       "       2015-11-03 00:00:00+00:00  748.82  751.698  741.16  745.43  1815300   \n",
       "       2015-11-04 00:00:00+00:00  755.31  759.900  749.20  749.90  2091999   \n",
       "       2015-11-05 00:00:00+00:00  760.67  766.350  757.47  758.81  2274314   \n",
       "       2015-11-06 00:00:00+00:00  761.60  763.022  755.03  759.39  1677199   \n",
       "\n",
       "                                  adjClose  adjHigh  adjLow  adjOpen  \\\n",
       "symbol date                                                            \n",
       "GOOGL  2015-11-02 00:00:00+00:00    747.74  748.180  731.45   737.88   \n",
       "       2015-11-03 00:00:00+00:00    748.82  751.698  741.16   745.43   \n",
       "       2015-11-04 00:00:00+00:00    755.31  759.900  749.20   749.90   \n",
       "       2015-11-05 00:00:00+00:00    760.67  766.350  757.47   758.81   \n",
       "       2015-11-06 00:00:00+00:00    761.60  763.022  755.03   759.39   \n",
       "\n",
       "                                  adjVolume  divCash  splitFactor  \n",
       "symbol date                                                        \n",
       "GOOGL  2015-11-02 00:00:00+00:00    1995708      0.0          1.0  \n",
       "       2015-11-03 00:00:00+00:00    1815300      0.0          1.0  \n",
       "       2015-11-04 00:00:00+00:00    2091999      0.0          1.0  \n",
       "       2015-11-05 00:00:00+00:00    2274314      0.0          1.0  \n",
       "       2015-11-06 00:00:00+00:00    1677199      0.0          1.0  "
      ]
     },
     "execution_count": 4,
     "metadata": {},
     "output_type": "execute_result"
    }
   ],
   "source": [
    "df.head()"
   ]
  },
  {
   "cell_type": "code",
   "execution_count": 5,
   "metadata": {},
   "outputs": [
    {
     "data": {
      "text/html": [
       "<div>\n",
       "<style scoped>\n",
       "    .dataframe tbody tr th:only-of-type {\n",
       "        vertical-align: middle;\n",
       "    }\n",
       "\n",
       "    .dataframe tbody tr th {\n",
       "        vertical-align: top;\n",
       "    }\n",
       "\n",
       "    .dataframe thead th {\n",
       "        text-align: right;\n",
       "    }\n",
       "</style>\n",
       "<table border=\"1\" class=\"dataframe\">\n",
       "  <thead>\n",
       "    <tr style=\"text-align: right;\">\n",
       "      <th></th>\n",
       "      <th></th>\n",
       "      <th>close</th>\n",
       "      <th>high</th>\n",
       "      <th>low</th>\n",
       "      <th>open</th>\n",
       "      <th>volume</th>\n",
       "      <th>adjClose</th>\n",
       "      <th>adjHigh</th>\n",
       "      <th>adjLow</th>\n",
       "      <th>adjOpen</th>\n",
       "      <th>adjVolume</th>\n",
       "      <th>divCash</th>\n",
       "      <th>splitFactor</th>\n",
       "    </tr>\n",
       "    <tr>\n",
       "      <th>symbol</th>\n",
       "      <th>date</th>\n",
       "      <th></th>\n",
       "      <th></th>\n",
       "      <th></th>\n",
       "      <th></th>\n",
       "      <th></th>\n",
       "      <th></th>\n",
       "      <th></th>\n",
       "      <th></th>\n",
       "      <th></th>\n",
       "      <th></th>\n",
       "      <th></th>\n",
       "      <th></th>\n",
       "    </tr>\n",
       "  </thead>\n",
       "  <tbody>\n",
       "    <tr>\n",
       "      <th rowspan=\"5\" valign=\"top\">GOOGL</th>\n",
       "      <th>2020-10-26 00:00:00+00:00</th>\n",
       "      <td>1584.29</td>\n",
       "      <td>1629.580</td>\n",
       "      <td>1567.78</td>\n",
       "      <td>1615.0000</td>\n",
       "      <td>1791317</td>\n",
       "      <td>1584.29</td>\n",
       "      <td>1629.580</td>\n",
       "      <td>1567.78</td>\n",
       "      <td>1615.0000</td>\n",
       "      <td>1791317</td>\n",
       "      <td>0.0</td>\n",
       "      <td>1.0</td>\n",
       "    </tr>\n",
       "    <tr>\n",
       "      <th>2020-10-27 00:00:00+00:00</th>\n",
       "      <td>1598.88</td>\n",
       "      <td>1602.000</td>\n",
       "      <td>1576.99</td>\n",
       "      <td>1588.9319</td>\n",
       "      <td>1295138</td>\n",
       "      <td>1598.88</td>\n",
       "      <td>1602.000</td>\n",
       "      <td>1576.99</td>\n",
       "      <td>1588.9319</td>\n",
       "      <td>1295138</td>\n",
       "      <td>0.0</td>\n",
       "      <td>1.0</td>\n",
       "    </tr>\n",
       "    <tr>\n",
       "      <th>2020-10-28 00:00:00+00:00</th>\n",
       "      <td>1510.80</td>\n",
       "      <td>1553.810</td>\n",
       "      <td>1508.48</td>\n",
       "      <td>1550.0100</td>\n",
       "      <td>2258675</td>\n",
       "      <td>1510.80</td>\n",
       "      <td>1553.810</td>\n",
       "      <td>1508.48</td>\n",
       "      <td>1550.0100</td>\n",
       "      <td>2258675</td>\n",
       "      <td>0.0</td>\n",
       "      <td>1.0</td>\n",
       "    </tr>\n",
       "    <tr>\n",
       "      <th>2020-10-29 00:00:00+00:00</th>\n",
       "      <td>1556.88</td>\n",
       "      <td>1588.735</td>\n",
       "      <td>1516.55</td>\n",
       "      <td>1517.0200</td>\n",
       "      <td>2770343</td>\n",
       "      <td>1556.88</td>\n",
       "      <td>1588.735</td>\n",
       "      <td>1516.55</td>\n",
       "      <td>1517.0200</td>\n",
       "      <td>2770343</td>\n",
       "      <td>0.0</td>\n",
       "      <td>1.0</td>\n",
       "    </tr>\n",
       "    <tr>\n",
       "      <th>2020-10-30 00:00:00+00:00</th>\n",
       "      <td>1616.11</td>\n",
       "      <td>1681.315</td>\n",
       "      <td>1601.57</td>\n",
       "      <td>1667.4400</td>\n",
       "      <td>4983203</td>\n",
       "      <td>1616.11</td>\n",
       "      <td>1681.315</td>\n",
       "      <td>1601.57</td>\n",
       "      <td>1667.4400</td>\n",
       "      <td>4983203</td>\n",
       "      <td>0.0</td>\n",
       "      <td>1.0</td>\n",
       "    </tr>\n",
       "  </tbody>\n",
       "</table>\n",
       "</div>"
      ],
      "text/plain": [
       "                                    close      high      low       open  \\\n",
       "symbol date                                                               \n",
       "GOOGL  2020-10-26 00:00:00+00:00  1584.29  1629.580  1567.78  1615.0000   \n",
       "       2020-10-27 00:00:00+00:00  1598.88  1602.000  1576.99  1588.9319   \n",
       "       2020-10-28 00:00:00+00:00  1510.80  1553.810  1508.48  1550.0100   \n",
       "       2020-10-29 00:00:00+00:00  1556.88  1588.735  1516.55  1517.0200   \n",
       "       2020-10-30 00:00:00+00:00  1616.11  1681.315  1601.57  1667.4400   \n",
       "\n",
       "                                   volume  adjClose   adjHigh   adjLow  \\\n",
       "symbol date                                                              \n",
       "GOOGL  2020-10-26 00:00:00+00:00  1791317   1584.29  1629.580  1567.78   \n",
       "       2020-10-27 00:00:00+00:00  1295138   1598.88  1602.000  1576.99   \n",
       "       2020-10-28 00:00:00+00:00  2258675   1510.80  1553.810  1508.48   \n",
       "       2020-10-29 00:00:00+00:00  2770343   1556.88  1588.735  1516.55   \n",
       "       2020-10-30 00:00:00+00:00  4983203   1616.11  1681.315  1601.57   \n",
       "\n",
       "                                    adjOpen  adjVolume  divCash  splitFactor  \n",
       "symbol date                                                                   \n",
       "GOOGL  2020-10-26 00:00:00+00:00  1615.0000    1791317      0.0          1.0  \n",
       "       2020-10-27 00:00:00+00:00  1588.9319    1295138      0.0          1.0  \n",
       "       2020-10-28 00:00:00+00:00  1550.0100    2258675      0.0          1.0  \n",
       "       2020-10-29 00:00:00+00:00  1517.0200    2770343      0.0          1.0  \n",
       "       2020-10-30 00:00:00+00:00  1667.4400    4983203      0.0          1.0  "
      ]
     },
     "execution_count": 5,
     "metadata": {},
     "output_type": "execute_result"
    }
   ],
   "source": [
    "df.tail()"
   ]
  },
  {
   "cell_type": "code",
   "execution_count": 6,
   "metadata": {},
   "outputs": [],
   "source": [
    "df1=df.reset_index()['close']"
   ]
  },
  {
   "cell_type": "code",
   "execution_count": 7,
   "metadata": {},
   "outputs": [
    {
     "data": {
      "text/plain": [
       "(1259,)"
      ]
     },
     "execution_count": 7,
     "metadata": {},
     "output_type": "execute_result"
    }
   ],
   "source": [
    "df1.shape"
   ]
  },
  {
   "cell_type": "code",
   "execution_count": 8,
   "metadata": {},
   "outputs": [
    {
     "data": {
      "text/plain": [
       "[<matplotlib.lines.Line2D at 0x15baaf76e88>]"
      ]
     },
     "execution_count": 8,
     "metadata": {},
     "output_type": "execute_result"
    },
    {
     "data": {
      "image/png": "[encoded data removed]",
      "text/plain": [
       "<Figure size 432x288 with 1 Axes>"
      ]
     },
     "metadata": {
      "needs_background": "light"
     },
     "output_type": "display_data"
    }
   ],
   "source": [
    "import matplotlib.pyplot as plt\n",
    "plt.plot(df1)"
   ]
  },
  {
   "cell_type": "code",
   "execution_count": 9,
   "metadata": {},
   "outputs": [
    {
     "data": {
      "text/plain": [
       "0        747.74\n",
       "1        748.82\n",
       "2        755.31\n",
       "3        760.67\n",
       "4        761.60\n",
       "         ...   \n",
       "1254    1584.29\n",
       "1255    1598.88\n",
       "1256    1510.80\n",
       "1257    1556.88\n",
       "1258    1616.11\n",
       "Name: close, Length: 1259, dtype: float64"
      ]
     },
     "execution_count": 9,
     "metadata": {},
     "output_type": "execute_result"
    }
   ],
   "source": [
    "df1"
   ]
  },
  {
   "cell_type": "code",
   "execution_count": 10,
   "metadata": {},
   "outputs": [],
   "source": [
    "from sklearn.preprocessing import MinMaxScaler\n",
    "scaler=MinMaxScaler(feature_range=(0,1))\n",
    "df1=scaler.fit_transform(np.array(df1).reshape(-1,1))"
   ]
  },
  {
   "cell_type": "code",
   "execution_count": 11,
   "metadata": {},
   "outputs": [
    {
     "data": {
      "text/plain": [
       "(1259, 1)"
      ]
     },
     "execution_count": 11,
     "metadata": {},
     "output_type": "execute_result"
    }
   ],
   "source": [
    "df1.shape"
   ]
  },
  {
   "cell_type": "code",
   "execution_count": 12,
   "metadata": {},
   "outputs": [
    {
     "data": {
      "text/plain": [
       "array([[0.06427021],\n",
       "       [0.06531242],\n",
       "       [0.07157539],\n",
       "       ...,\n",
       "       [0.80063691],\n",
       "       [0.84510495],\n",
       "       [0.90226297]])"
      ]
     },
     "execution_count": 12,
     "metadata": {},
     "output_type": "execute_result"
    }
   ],
   "source": [
    "df1"
   ]
  },
  {
   "cell_type": "code",
   "execution_count": 13,
   "metadata": {},
   "outputs": [],
   "source": [
    "#splitting training and test data\n",
    "training_size=int(len(df1)*0.65)\n",
    "testing_size=len(df1)-training_size\n",
    "train_data, test_data=df1[0:training_size,:],df1[training_size:len(df1),:1] "
   ]
  },
  {
   "cell_type": "code",
   "execution_count": 14,
   "metadata": {},
   "outputs": [
    {
     "data": {
      "text/plain": [
       "(818, 441)"
      ]
     },
     "execution_count": 14,
     "metadata": {},
     "output_type": "execute_result"
    }
   ],
   "source": [
    "training_size, testing_size"
   ]
  },
  {
   "cell_type": "code",
   "execution_count": 15,
   "metadata": {},
   "outputs": [],
   "source": [
    "def create_dataset(dataset,time_steps=1):\n",
    "    dataX,dataY=[],[]\n",
    "    for i in range(len(dataset)-time_steps-1):\n",
    "        a=dataset[i:(i+time_step), 0]\n",
    "        dataX.append(a)\n",
    "        dataY.append(dataset[i+time_step, 0])\n",
    "    return np.array(dataX), np.array(dataY)"
   ]
  },
  {
   "cell_type": "code",
   "execution_count": 16,
   "metadata": {},
   "outputs": [],
   "source": [
    "time_step=100\n",
    "X_train,Y_train=create_dataset(train_data, time_step)\n",
    "X_test,Y_test=create_dataset(test_data, time_step)"
   ]
  },
  {
   "cell_type": "code",
   "execution_count": 17,
   "metadata": {},
   "outputs": [
    {
     "name": "stdout",
     "output_type": "stream",
     "text": [
      "[[0.06427021 0.06531242 0.07157539 ... 0.07374668 0.07112183 0.06961641]\n",
      " [0.06531242 0.07157539 0.07674789 ... 0.07112183 0.06961641 0.08178528]\n",
      " [0.07157539 0.07674789 0.07764536 ... 0.06961641 0.08178528 0.08414958]\n",
      " ...\n",
      " [0.51162364 0.49984077 0.48525935 ... 0.38876719 0.40566466 0.38477201]\n",
      " [0.49984077 0.48525935 0.47908323 ... 0.40566466 0.38477201 0.37531484]\n",
      " [0.48525935 0.47908323 0.47664174 ... 0.38477201 0.37531484 0.40226779]]\n"
     ]
    }
   ],
   "source": [
    "print(X_train)"
   ]
  },
  {
   "cell_type": "code",
   "execution_count": 18,
   "metadata": {},
   "outputs": [],
   "source": [
    "X_train=X_train.reshape(X_train.shape[0], X_train.shape[1], 1)\n",
    "X_test=X_test.reshape(X_test.shape[0], X_test.shape[1], 1)"
   ]
  },
  {
   "cell_type": "code",
   "execution_count": 19,
   "metadata": {},
   "outputs": [],
   "source": [
    "from tensorflow.keras.models import Sequential\n",
    "from tensorflow.keras.layers import Dense\n",
    "from tensorflow.keras.layers import LSTM"
   ]
  },
  {
   "cell_type": "code",
   "execution_count": 20,
   "metadata": {},
   "outputs": [],
   "source": [
    "model=Sequential()\n",
    "model.add(LSTM(50, return_sequences=True, input_shape=(100,1)))\n",
    "model.add(LSTM(50, return_sequences=True))\n",
    "model.add(LSTM(50))\n",
    "model.add(Dense(1))\n",
    "model.compile(loss='mean_squared_error', optimizer='adam')"
   ]
  },
  {
   "cell_type": "code",
   "execution_count": 21,
   "metadata": {},
   "outputs": [
    {
     "name": "stdout",
     "output_type": "stream",
     "text": [
      "Model: \"sequential\"\n",
      "_________________________________________________________________\n",
      "Layer (type)                 Output Shape              Param #   \n",
      "=================================================================\n",
      "lstm (LSTM)                  (None, 100, 50)           10400     \n",
      "_________________________________________________________________\n",
      "lstm_1 (LSTM)                (None, 100, 50)           20200     \n",
      "_________________________________________________________________\n",
      "lstm_2 (LSTM)                (None, 50)                20200     \n",
      "_________________________________________________________________\n",
      "dense (Dense)                (None, 1)                 51        \n",
      "=================================================================\n",
      "Total params: 50,851\n",
      "Trainable params: 50,851\n",
      "Non-trainable params: 0\n",
      "_________________________________________________________________\n"
     ]
    }
   ],
   "source": [
    "model.summary()"
   ]
  },
  {
   "cell_type": "code",
   "execution_count": 22,
   "metadata": {},
   "outputs": [
    {
     "name": "stdout",
     "output_type": "stream",
     "text": [
      "Epoch 1/100\n",
      "12/12 [==============================] - 5s 406ms/step - loss: 0.0219 - val_loss: 0.0614\n",
      "Epoch 2/100\n",
      "12/12 [==============================] - 2s 167ms/step - loss: 0.0051 - val_loss: 0.0056\n",
      "Epoch 3/100\n",
      "12/12 [==============================] - 2s 169ms/step - loss: 0.0021 - val_loss: 0.0050\n",
      "Epoch 4/100\n",
      "12/12 [==============================] - 2s 179ms/step - loss: 0.0016 - val_loss: 0.0071\n",
      "Epoch 5/100\n",
      "12/12 [==============================] - 2s 184ms/step - loss: 0.0012 - val_loss: 0.0076\n",
      "Epoch 6/100\n",
      "12/12 [==============================] - 3s 218ms/step - loss: 0.0011 - val_loss: 0.0057\n",
      "Epoch 7/100\n",
      "12/12 [==============================] - 2s 172ms/step - loss: 0.0011 - val_loss: 0.0055\n",
      "Epoch 8/100\n",
      "12/12 [==============================] - 2s 170ms/step - loss: 0.0011 - val_loss: 0.0052\n",
      "Epoch 9/100\n",
      "12/12 [==============================] - 2s 172ms/step - loss: 0.0011 - val_loss: 0.0062\n",
      "Epoch 10/100\n",
      "12/12 [==============================] - 3s 239ms/step - loss: 0.0010 - val_loss: 0.0051\n",
      "Epoch 11/100\n",
      "12/12 [==============================] - 3s 228ms/step - loss: 0.0010 - val_loss: 0.0059\n",
      "Epoch 12/100\n",
      "12/12 [==============================] - 2s 202ms/step - loss: 0.0010 - val_loss: 0.0060\n",
      "Epoch 13/100\n",
      "12/12 [==============================] - 3s 253ms/step - loss: 0.0010 - val_loss: 0.0064\n",
      "Epoch 14/100\n",
      "12/12 [==============================] - 2s 177ms/step - loss: 9.9260e-04 - val_loss: 0.0055\n",
      "Epoch 15/100\n",
      "12/12 [==============================] - 2s 189ms/step - loss: 9.7462e-04 - val_loss: 0.0045\n",
      "Epoch 16/100\n",
      "12/12 [==============================] - 3s 222ms/step - loss: 9.9358e-04 - val_loss: 0.0046\n",
      "Epoch 17/100\n",
      "12/12 [==============================] - 2s 195ms/step - loss: 9.7574e-04 - val_loss: 0.0072\n",
      "Epoch 18/100\n",
      "12/12 [==============================] - 3s 226ms/step - loss: 9.8126e-04 - val_loss: 0.0055\n",
      "Epoch 19/100\n",
      "12/12 [==============================] - 2s 158ms/step - loss: 9.1937e-04 - val_loss: 0.0062\n",
      "Epoch 20/100\n",
      "12/12 [==============================] - 2s 158ms/step - loss: 9.2831e-04 - val_loss: 0.0075\n",
      "Epoch 21/100\n",
      "12/12 [==============================] - 2s 164ms/step - loss: 9.4932e-04 - val_loss: 0.0036\n",
      "Epoch 22/100\n",
      "12/12 [==============================] - 2s 162ms/step - loss: 9.4957e-04 - val_loss: 0.0040\n",
      "Epoch 23/100\n",
      "12/12 [==============================] - 2s 158ms/step - loss: 9.4910e-04 - val_loss: 0.0067\n",
      "Epoch 24/100\n",
      "12/12 [==============================] - 2s 159ms/step - loss: 8.6627e-04 - val_loss: 0.0043\n",
      "Epoch 25/100\n",
      "12/12 [==============================] - 2s 158ms/step - loss: 8.4688e-04 - val_loss: 0.0047\n",
      "Epoch 26/100\n",
      "12/12 [==============================] - 2s 158ms/step - loss: 8.5720e-04 - val_loss: 0.0044\n",
      "Epoch 27/100\n",
      "12/12 [==============================] - 2s 163ms/step - loss: 8.3748e-04 - val_loss: 0.0043\n",
      "Epoch 28/100\n",
      "12/12 [==============================] - 3s 221ms/step - loss: 8.1091e-04 - val_loss: 0.0064\n",
      "Epoch 29/100\n",
      "12/12 [==============================] - 3s 262ms/step - loss: 8.7926e-04 - val_loss: 0.0037\n",
      "Epoch 30/100\n",
      "12/12 [==============================] - 2s 189ms/step - loss: 8.8962e-04 - val_loss: 0.0063\n",
      "Epoch 31/100\n",
      "12/12 [==============================] - 4s 307ms/step - loss: 8.4574e-04 - val_loss: 0.0057\n",
      "Epoch 32/100\n",
      "12/12 [==============================] - 2s 205ms/step - loss: 8.2209e-04 - val_loss: 0.0035\n",
      "Epoch 33/100\n",
      "12/12 [==============================] - 2s 192ms/step - loss: 8.0457e-04 - val_loss: 0.0051\n",
      "Epoch 34/100\n",
      "12/12 [==============================] - 2s 170ms/step - loss: 7.7457e-04 - val_loss: 0.0036\n",
      "Epoch 35/100\n",
      "12/12 [==============================] - 2s 154ms/step - loss: 7.7883e-04 - val_loss: 0.0044\n",
      "Epoch 36/100\n",
      "12/12 [==============================] - 2s 175ms/step - loss: 7.5311e-04 - val_loss: 0.0028\n",
      "Epoch 37/100\n",
      "12/12 [==============================] - 2s 200ms/step - loss: 7.6109e-04 - val_loss: 0.0049\n",
      "Epoch 38/100\n",
      "12/12 [==============================] - 2s 205ms/step - loss: 7.3950e-04 - val_loss: 0.0048\n",
      "Epoch 39/100\n",
      "12/12 [==============================] - 2s 187ms/step - loss: 7.3199e-04 - val_loss: 0.0079\n",
      "Epoch 40/100\n",
      "12/12 [==============================] - 2s 179ms/step - loss: 8.2536e-04 - val_loss: 0.0036\n",
      "Epoch 41/100\n",
      "12/12 [==============================] - 3s 230ms/step - loss: 7.1301e-04 - val_loss: 0.0040\n",
      "Epoch 42/100\n",
      "12/12 [==============================] - 2s 201ms/step - loss: 6.9705e-04 - val_loss: 0.0043\n",
      "Epoch 43/100\n",
      "12/12 [==============================] - 4s 310ms/step - loss: 7.1841e-04 - val_loss: 0.0046\n",
      "Epoch 44/100\n",
      "12/12 [==============================] - 2s 180ms/step - loss: 7.2962e-04 - val_loss: 0.0033\n",
      "Epoch 45/100\n",
      "12/12 [==============================] - 2s 172ms/step - loss: 7.0419e-04 - val_loss: 0.0032\n",
      "Epoch 46/100\n",
      "12/12 [==============================] - 2s 165ms/step - loss: 6.7450e-04 - val_loss: 0.0036\n",
      "Epoch 47/100\n",
      "12/12 [==============================] - 3s 221ms/step - loss: 6.8055e-04 - val_loss: 0.0039\n",
      "Epoch 48/100\n",
      "12/12 [==============================] - 2s 174ms/step - loss: 6.3600e-04 - val_loss: 0.0048\n",
      "Epoch 49/100\n",
      "12/12 [==============================] - 2s 150ms/step - loss: 6.4001e-04 - val_loss: 0.0046\n",
      "Epoch 50/100\n",
      "12/12 [==============================] - 2s 156ms/step - loss: 6.5305e-04 - val_loss: 0.0031\n",
      "Epoch 51/100\n",
      "12/12 [==============================] - 2s 165ms/step - loss: 6.0786e-04 - val_loss: 0.0029\n",
      "Epoch 52/100\n",
      "12/12 [==============================] - 2s 175ms/step - loss: 6.1948e-04 - val_loss: 0.0033\n",
      "Epoch 53/100\n",
      "12/12 [==============================] - 2s 178ms/step - loss: 6.2391e-04 - val_loss: 0.0030\n",
      "Epoch 54/100\n",
      "12/12 [==============================] - 3s 251ms/step - loss: 6.7522e-04 - val_loss: 0.0027\n",
      "Epoch 55/100\n",
      "12/12 [==============================] - 2s 197ms/step - loss: 6.5801e-04 - val_loss: 0.0022\n",
      "Epoch 56/100\n",
      "12/12 [==============================] - 2s 192ms/step - loss: 5.9082e-04 - val_loss: 0.0033\n",
      "Epoch 57/100\n",
      "12/12 [==============================] - 3s 210ms/step - loss: 5.5972e-04 - val_loss: 0.0044\n",
      "Epoch 58/100\n",
      "12/12 [==============================] - 3s 225ms/step - loss: 5.9036e-04 - val_loss: 0.0023\n",
      "Epoch 59/100\n",
      "12/12 [==============================] - 3s 252ms/step - loss: 5.4085e-04 - val_loss: 0.0041\n",
      "Epoch 60/100\n",
      "12/12 [==============================] - 3s 248ms/step - loss: 5.7723e-04 - val_loss: 0.0019\n",
      "Epoch 61/100\n",
      "12/12 [==============================] - 3s 238ms/step - loss: 5.6561e-04 - val_loss: 0.0037\n",
      "Epoch 62/100\n",
      "12/12 [==============================] - 3s 231ms/step - loss: 6.0338e-04 - val_loss: 0.0021\n",
      "Epoch 63/100\n",
      "12/12 [==============================] - 3s 236ms/step - loss: 5.1351e-04 - val_loss: 0.0033\n",
      "Epoch 64/100\n",
      "12/12 [==============================] - 3s 222ms/step - loss: 5.0109e-04 - val_loss: 0.0050\n",
      "Epoch 65/100\n",
      "12/12 [==============================] - 3s 244ms/step - loss: 5.6305e-04 - val_loss: 0.0014\n",
      "Epoch 66/100\n",
      "12/12 [==============================] - 3s 236ms/step - loss: 4.9896e-04 - val_loss: 0.0038\n",
      "Epoch 67/100\n",
      "12/12 [==============================] - 3s 221ms/step - loss: 4.9566e-04 - val_loss: 0.0024\n",
      "Epoch 68/100\n",
      "12/12 [==============================] - 3s 239ms/step - loss: 4.5979e-04 - val_loss: 0.0024\n",
      "Epoch 69/100\n",
      "12/12 [==============================] - 3s 224ms/step - loss: 4.5139e-04 - val_loss: 0.0019\n",
      "Epoch 70/100\n",
      "12/12 [==============================] - 3s 249ms/step - loss: 4.4669e-04 - val_loss: 0.0037\n",
      "Epoch 71/100\n",
      "12/12 [==============================] - 3s 236ms/step - loss: 4.3890e-04 - val_loss: 0.0023\n",
      "Epoch 72/100\n",
      "12/12 [==============================] - 3s 232ms/step - loss: 4.4951e-04 - val_loss: 0.0019\n",
      "Epoch 73/100\n",
      "12/12 [==============================] - 3s 244ms/step - loss: 5.2835e-04 - val_loss: 0.0014\n",
      "Epoch 74/100\n",
      "12/12 [==============================] - 3s 234ms/step - loss: 4.5185e-04 - val_loss: 0.0031-\n",
      "Epoch 75/100\n",
      "12/12 [==============================] - 3s 231ms/step - loss: 4.3145e-04 - val_loss: 0.0015\n",
      "Epoch 76/100\n",
      "12/12 [==============================] - 3s 243ms/step - loss: 4.2136e-04 - val_loss: 0.0022\n",
      "Epoch 77/100\n",
      "12/12 [==============================] - 3s 248ms/step - loss: 4.3195e-04 - val_loss: 0.0020\n",
      "Epoch 78/100\n",
      "12/12 [==============================] - 3s 233ms/step - loss: 3.9929e-04 - val_loss: 0.0022\n"
     ]
    },
    {
     "name": "stdout",
     "output_type": "stream",
     "text": [
      "Epoch 79/100\n",
      "12/12 [==============================] - 3s 230ms/step - loss: 3.7447e-04 - val_loss: 0.0011\n",
      "Epoch 80/100\n",
      "12/12 [==============================] - 3s 241ms/step - loss: 4.3967e-04 - val_loss: 0.0015\n",
      "Epoch 81/100\n",
      "12/12 [==============================] - 3s 232ms/step - loss: 3.6555e-04 - val_loss: 0.0018\n",
      "Epoch 82/100\n",
      "12/12 [==============================] - 3s 243ms/step - loss: 3.9212e-04 - val_loss: 0.0012\n",
      "Epoch 83/100\n",
      "12/12 [==============================] - 3s 246ms/step - loss: 3.6176e-04 - val_loss: 0.0016\n",
      "Epoch 84/100\n",
      "12/12 [==============================] - 3s 245ms/step - loss: 3.3567e-04 - val_loss: 0.0010\n",
      "Epoch 85/100\n",
      "12/12 [==============================] - 3s 245ms/step - loss: 4.0658e-04 - val_loss: 0.0037\n",
      "Epoch 86/100\n",
      "12/12 [==============================] - 3s 256ms/step - loss: 3.5353e-04 - val_loss: 0.0016\n",
      "Epoch 87/100\n",
      "12/12 [==============================] - 3s 230ms/step - loss: 3.4284e-04 - val_loss: 0.0016\n",
      "Epoch 88/100\n",
      "12/12 [==============================] - 3s 228ms/step - loss: 3.4271e-04 - val_loss: 0.0013\n",
      "Epoch 89/100\n",
      "12/12 [==============================] - 3s 247ms/step - loss: 3.3665e-04 - val_loss: 0.0030\n",
      "Epoch 90/100\n",
      "12/12 [==============================] - 3s 242ms/step - loss: 3.4934e-04 - val_loss: 9.1308e-04\n",
      "Epoch 91/100\n",
      "12/12 [==============================] - 3s 251ms/step - loss: 3.8749e-04 - val_loss: 0.0010\n",
      "Epoch 92/100\n",
      "12/12 [==============================] - 2s 181ms/step - loss: 3.5714e-04 - val_loss: 0.0027\n",
      "Epoch 93/100\n",
      "12/12 [==============================] - 2s 202ms/step - loss: 3.9463e-04 - val_loss: 9.0150e-04\n",
      "Epoch 94/100\n",
      "12/12 [==============================] - 3s 227ms/step - loss: 3.5408e-04 - val_loss: 0.0016\n",
      "Epoch 95/100\n",
      "12/12 [==============================] - 3s 263ms/step - loss: 3.0858e-04 - val_loss: 0.0021\n",
      "Epoch 96/100\n",
      "12/12 [==============================] - 2s 179ms/step - loss: 3.3135e-04 - val_loss: 0.0017\n",
      "Epoch 97/100\n",
      "12/12 [==============================] - 3s 218ms/step - loss: 2.9649e-04 - val_loss: 0.0020\n",
      "Epoch 98/100\n",
      "12/12 [==============================] - 3s 230ms/step - loss: 2.8757e-04 - val_loss: 0.0012\n",
      "Epoch 99/100\n",
      "12/12 [==============================] - 3s 214ms/step - loss: 2.7750e-04 - val_loss: 0.0026\n",
      "Epoch 100/100\n",
      "12/12 [==============================] - 2s 195ms/step - loss: 3.1988e-04 - val_loss: 0.0016\n"
     ]
    },
    {
     "data": {
      "text/plain": [
       "<tensorflow.python.keras.callbacks.History at 0x15bb7a00588>"
      ]
     },
     "execution_count": 22,
     "metadata": {},
     "output_type": "execute_result"
    }
   ],
   "source": [
    "model.fit(X_train,Y_train, validation_data=(X_test, Y_test), epochs=100, batch_size=64, verbose=1)"
   ]
  },
  {
   "cell_type": "code",
   "execution_count": 23,
   "metadata": {},
   "outputs": [],
   "source": [
    "import tensorflow as tf"
   ]
  },
  {
   "cell_type": "code",
   "execution_count": 24,
   "metadata": {},
   "outputs": [],
   "source": [
    "train_predict=model.predict(X_train)\n",
    "test_predict=model.predict(X_test)"
   ]
  },
  {
   "cell_type": "code",
   "execution_count": 25,
   "metadata": {},
   "outputs": [],
   "source": [
    "train_predict=scaler.inverse_transform(train_predict)\n",
    "test_predict=scaler.inverse_transform(test_predict)"
   ]
  },
  {
   "cell_type": "code",
   "execution_count": 26,
   "metadata": {},
   "outputs": [
    {
     "data": {
      "text/plain": [
       "968.5230377354694"
      ]
     },
     "execution_count": 26,
     "metadata": {},
     "output_type": "execute_result"
    }
   ],
   "source": [
    "import math\n",
    "from sklearn.metrics import mean_squared_error\n",
    "math.sqrt(mean_squared_error(Y_train,train_predict))"
   ]
  },
  {
   "cell_type": "code",
   "execution_count": 27,
   "metadata": {},
   "outputs": [
    {
     "data": {
      "text/plain": [
       "1330.1955588149654"
      ]
     },
     "execution_count": 27,
     "metadata": {},
     "output_type": "execute_result"
    }
   ],
   "source": [
    "math.sqrt(mean_squared_error(Y_test,test_predict))"
   ]
  },
  {
   "cell_type": "code",
   "execution_count": 28,
   "metadata": {
    "scrolled": true
   },
   "outputs": [
    {
     "data": {
      "image/png": "[encoded data removed]",
      "text/plain": [
       "<Figure size 432x288 with 1 Axes>"
      ]
     },
     "metadata": {
      "needs_background": "light"
     },
     "output_type": "display_data"
    }
   ],
   "source": [
    "#plotting\n",
    "look_back=100\n",
    "trainPredictPlot=np.empty_like(df1)\n",
    "trainPredictPlot[:,:]=np.nan\n",
    "trainPredictPlot[look_back:len(train_predict)+look_back,:]=train_predict\n",
    "\n",
    "testPredictPlot=np.empty_like(df1)\n",
    "testPredictPlot[:,:]=np.nan\n",
    "testPredictPlot[len(train_predict)+(look_back*2)+1 : len(df1)-1, :]=test_predict\n",
    "\n",
    "plt.plot(scaler.inverse_transform(df1))\n",
    "plt.plot(testPredictPlot)\n",
    "plt.plot(trainPredictPlot)\n",
    "plt.show()"
   ]
  },
  {
   "cell_type": "code",
   "execution_count": 54,
   "metadata": {},
   "outputs": [
    {
     "data": {
      "text/plain": [
       "441"
      ]
     },
     "execution_count": 54,
     "metadata": {},
     "output_type": "execute_result"
    }
   ],
   "source": [
    "len(test_data)"
   ]
  },
  {
   "cell_type": "code",
   "execution_count": 55,
   "metadata": {},
   "outputs": [
    {
     "data": {
      "text/plain": [
       "(1, 100)"
      ]
     },
     "execution_count": 55,
     "metadata": {},
     "output_type": "execute_result"
    }
   ],
   "source": [
    "x_input=test_data[341:].reshape(1,-1)\n",
    "x_input.shape"
   ]
  },
  {
   "cell_type": "code",
   "execution_count": 56,
   "metadata": {},
   "outputs": [],
   "source": [
    "x_input=test_data[341:].reshape(1,-1)"
   ]
  },
  {
   "cell_type": "code",
   "execution_count": 57,
   "metadata": {},
   "outputs": [
    {
     "data": {
      "text/plain": [
       "(1, 100)"
      ]
     },
     "execution_count": 57,
     "metadata": {},
     "output_type": "execute_result"
    }
   ],
   "source": [
    "x_input.shape"
   ]
  },
  {
   "cell_type": "code",
   "execution_count": 58,
   "metadata": {},
   "outputs": [],
   "source": [
    "temp_input=list(x_input)\n",
    "temp_input=temp_input[0].tolist()"
   ]
  },
  {
   "cell_type": "code",
   "execution_count": 59,
   "metadata": {},
   "outputs": [],
   "source": [
    "from numpy import array"
   ]
  },
  {
   "cell_type": "code",
   "execution_count": 60,
   "metadata": {},
   "outputs": [
    {
     "name": "stdout",
     "output_type": "stream",
     "text": [
      "[0.82209533]\n",
      "101\n",
      "1 day input [0.70618094 0.71372738 0.7385573  0.74441496 0.72663932 0.71749095\n",
      " 0.74260072 0.75545476 0.725269   0.73337515 0.65756333 0.69098191\n",
      " 0.71113148 0.73424367 0.76119662 0.78987696 0.78048733 0.79368878\n",
      " 0.80822195 0.82786007 0.80201689 0.81034499 0.80650422 0.80461279\n",
      " 0.80647527 0.85182147 0.84417853 0.85279614 0.80637877 0.79813752\n",
      " 0.8186152  0.79373703 0.81290229 0.82724246 0.77858625 0.7735778\n",
      " 0.76444873 0.77003619 0.79499156 0.78864174 0.78714596 0.77143546\n",
      " 0.79720145 0.80628227 0.79468275 0.80588661 0.84404343 0.83326417\n",
      " 0.86379735 0.86314113 0.87238601 0.89236188 0.92930277 0.91423884\n",
      " 0.92476719 0.91521351 0.93986972 1.         0.91519421 0.86858384\n",
      " 0.81298914 0.83579252 0.81535344 0.8054234  0.79873583 0.82410615\n",
      " 0.80188179 0.77770808 0.74301568 0.72279855 0.75144029 0.70277443\n",
      " 0.71577322 0.73140651 0.75032087 0.7574234  0.75701809 0.778538\n",
      " 0.74736791 0.77364536 0.74294813 0.75078408 0.77422437 0.80029916\n",
      " 0.85254524 0.85493848 0.85143546 0.84374427 0.85554644 0.81911701\n",
      " 0.83950784 0.87319662 0.89314355 0.91854282 0.87155609 0.88563571\n",
      " 0.80063691 0.84510495 0.90226297 0.82209533]\n",
      "1 day output [[0.8148426]]\n",
      "2 day input [0.71372738 0.7385573  0.74441496 0.72663932 0.71749095 0.74260072\n",
      " 0.75545476 0.725269   0.73337515 0.65756333 0.69098191 0.71113148\n",
      " 0.73424367 0.76119662 0.78987696 0.78048733 0.79368878 0.80822195\n",
      " 0.82786007 0.80201689 0.81034499 0.80650422 0.80461279 0.80647527\n",
      " 0.85182147 0.84417853 0.85279614 0.80637877 0.79813752 0.8186152\n",
      " 0.79373703 0.81290229 0.82724246 0.77858625 0.7735778  0.76444873\n",
      " 0.77003619 0.79499156 0.78864174 0.78714596 0.77143546 0.79720145\n",
      " 0.80628227 0.79468275 0.80588661 0.84404343 0.83326417 0.86379735\n",
      " 0.86314113 0.87238601 0.89236188 0.92930277 0.91423884 0.92476719\n",
      " 0.91521351 0.93986972 1.         0.91519421 0.86858384 0.81298914\n",
      " 0.83579252 0.81535344 0.8054234  0.79873583 0.82410615 0.80188179\n",
      " 0.77770808 0.74301568 0.72279855 0.75144029 0.70277443 0.71577322\n",
      " 0.73140651 0.75032087 0.7574234  0.75701809 0.778538   0.74736791\n",
      " 0.77364536 0.74294813 0.75078408 0.77422437 0.80029916 0.85254524\n",
      " 0.85493848 0.85143546 0.84374427 0.85554644 0.81911701 0.83950784\n",
      " 0.87319662 0.89314355 0.91854282 0.87155609 0.88563571 0.80063691\n",
      " 0.84510495 0.90226297 0.82209533 0.81484258]\n",
      "2 day output [[0.78917164]]\n",
      "3 day input [0.7385573  0.74441496 0.72663932 0.71749095 0.74260072 0.75545476\n",
      " 0.725269   0.73337515 0.65756333 0.69098191 0.71113148 0.73424367\n",
      " 0.76119662 0.78987696 0.78048733 0.79368878 0.80822195 0.82786007\n",
      " 0.80201689 0.81034499 0.80650422 0.80461279 0.80647527 0.85182147\n",
      " 0.84417853 0.85279614 0.80637877 0.79813752 0.8186152  0.79373703\n",
      " 0.81290229 0.82724246 0.77858625 0.7735778  0.76444873 0.77003619\n",
      " 0.79499156 0.78864174 0.78714596 0.77143546 0.79720145 0.80628227\n",
      " 0.79468275 0.80588661 0.84404343 0.83326417 0.86379735 0.86314113\n",
      " 0.87238601 0.89236188 0.92930277 0.91423884 0.92476719 0.91521351\n",
      " 0.93986972 1.         0.91519421 0.86858384 0.81298914 0.83579252\n",
      " 0.81535344 0.8054234  0.79873583 0.82410615 0.80188179 0.77770808\n",
      " 0.74301568 0.72279855 0.75144029 0.70277443 0.71577322 0.73140651\n",
      " 0.75032087 0.7574234  0.75701809 0.778538   0.74736791 0.77364536\n",
      " 0.74294813 0.75078408 0.77422437 0.80029916 0.85254524 0.85493848\n",
      " 0.85143546 0.84374427 0.85554644 0.81911701 0.83950784 0.87319662\n",
      " 0.89314355 0.91854282 0.87155609 0.88563571 0.80063691 0.84510495\n",
      " 0.90226297 0.82209533 0.81484258 0.78917164]\n",
      "3 day output [[0.7600975]]\n",
      "4 day input [0.74441496 0.72663932 0.71749095 0.74260072 0.75545476 0.725269\n",
      " 0.73337515 0.65756333 0.69098191 0.71113148 0.73424367 0.76119662\n",
      " 0.78987696 0.78048733 0.79368878 0.80822195 0.82786007 0.80201689\n",
      " 0.81034499 0.80650422 0.80461279 0.80647527 0.85182147 0.84417853\n",
      " 0.85279614 0.80637877 0.79813752 0.8186152  0.79373703 0.81290229\n",
      " 0.82724246 0.77858625 0.7735778  0.76444873 0.77003619 0.79499156\n",
      " 0.78864174 0.78714596 0.77143546 0.79720145 0.80628227 0.79468275\n",
      " 0.80588661 0.84404343 0.83326417 0.86379735 0.86314113 0.87238601\n",
      " 0.89236188 0.92930277 0.91423884 0.92476719 0.91521351 0.93986972\n",
      " 1.         0.91519421 0.86858384 0.81298914 0.83579252 0.81535344\n",
      " 0.8054234  0.79873583 0.82410615 0.80188179 0.77770808 0.74301568\n",
      " 0.72279855 0.75144029 0.70277443 0.71577322 0.73140651 0.75032087\n",
      " 0.7574234  0.75701809 0.778538   0.74736791 0.77364536 0.74294813\n",
      " 0.75078408 0.77422437 0.80029916 0.85254524 0.85493848 0.85143546\n",
      " 0.84374427 0.85554644 0.81911701 0.83950784 0.87319662 0.89314355\n",
      " 0.91854282 0.87155609 0.88563571 0.80063691 0.84510495 0.90226297\n",
      " 0.82209533 0.81484258 0.78917164 0.7600975 ]\n",
      "4 day output [[0.7317819]]\n",
      "5 day input [0.72663932 0.71749095 0.74260072 0.75545476 0.725269   0.73337515\n",
      " 0.65756333 0.69098191 0.71113148 0.73424367 0.76119662 0.78987696\n",
      " 0.78048733 0.79368878 0.80822195 0.82786007 0.80201689 0.81034499\n",
      " 0.80650422 0.80461279 0.80647527 0.85182147 0.84417853 0.85279614\n",
      " 0.80637877 0.79813752 0.8186152  0.79373703 0.81290229 0.82724246\n",
      " 0.77858625 0.7735778  0.76444873 0.77003619 0.79499156 0.78864174\n",
      " 0.78714596 0.77143546 0.79720145 0.80628227 0.79468275 0.80588661\n",
      " 0.84404343 0.83326417 0.86379735 0.86314113 0.87238601 0.89236188\n",
      " 0.92930277 0.91423884 0.92476719 0.91521351 0.93986972 1.\n",
      " 0.91519421 0.86858384 0.81298914 0.83579252 0.81535344 0.8054234\n",
      " 0.79873583 0.82410615 0.80188179 0.77770808 0.74301568 0.72279855\n",
      " 0.75144029 0.70277443 0.71577322 0.73140651 0.75032087 0.7574234\n",
      " 0.75701809 0.778538   0.74736791 0.77364536 0.74294813 0.75078408\n",
      " 0.77422437 0.80029916 0.85254524 0.85493848 0.85143546 0.84374427\n",
      " 0.85554644 0.81911701 0.83950784 0.87319662 0.89314355 0.91854282\n",
      " 0.87155609 0.88563571 0.80063691 0.84510495 0.90226297 0.82209533\n",
      " 0.81484258 0.78917164 0.7600975  0.7317819 ]\n",
      "5 day output [[0.70571053]]\n",
      "6 day input [0.71749095 0.74260072 0.75545476 0.725269   0.73337515 0.65756333\n",
      " 0.69098191 0.71113148 0.73424367 0.76119662 0.78987696 0.78048733\n",
      " 0.79368878 0.80822195 0.82786007 0.80201689 0.81034499 0.80650422\n",
      " 0.80461279 0.80647527 0.85182147 0.84417853 0.85279614 0.80637877\n",
      " 0.79813752 0.8186152  0.79373703 0.81290229 0.82724246 0.77858625\n",
      " 0.7735778  0.76444873 0.77003619 0.79499156 0.78864174 0.78714596\n",
      " 0.77143546 0.79720145 0.80628227 0.79468275 0.80588661 0.84404343\n",
      " 0.83326417 0.86379735 0.86314113 0.87238601 0.89236188 0.92930277\n",
      " 0.91423884 0.92476719 0.91521351 0.93986972 1.         0.91519421\n",
      " 0.86858384 0.81298914 0.83579252 0.81535344 0.8054234  0.79873583\n",
      " 0.82410615 0.80188179 0.77770808 0.74301568 0.72279855 0.75144029\n",
      " 0.70277443 0.71577322 0.73140651 0.75032087 0.7574234  0.75701809\n",
      " 0.778538   0.74736791 0.77364536 0.74294813 0.75078408 0.77422437\n",
      " 0.80029916 0.85254524 0.85493848 0.85143546 0.84374427 0.85554644\n",
      " 0.81911701 0.83950784 0.87319662 0.89314355 0.91854282 0.87155609\n",
      " 0.88563571 0.80063691 0.84510495 0.90226297 0.82209533 0.81484258\n",
      " 0.78917164 0.7600975  0.7317819  0.70571053]\n",
      "6 day output [[0.6826682]]\n",
      "7 day input [0.74260072 0.75545476 0.725269   0.73337515 0.65756333 0.69098191\n",
      " 0.71113148 0.73424367 0.76119662 0.78987696 0.78048733 0.79368878\n",
      " 0.80822195 0.82786007 0.80201689 0.81034499 0.80650422 0.80461279\n",
      " 0.80647527 0.85182147 0.84417853 0.85279614 0.80637877 0.79813752\n",
      " 0.8186152  0.79373703 0.81290229 0.82724246 0.77858625 0.7735778\n",
      " 0.76444873 0.77003619 0.79499156 0.78864174 0.78714596 0.77143546\n",
      " 0.79720145 0.80628227 0.79468275 0.80588661 0.84404343 0.83326417\n",
      " 0.86379735 0.86314113 0.87238601 0.89236188 0.92930277 0.91423884\n",
      " 0.92476719 0.91521351 0.93986972 1.         0.91519421 0.86858384\n",
      " 0.81298914 0.83579252 0.81535344 0.8054234  0.79873583 0.82410615\n",
      " 0.80188179 0.77770808 0.74301568 0.72279855 0.75144029 0.70277443\n",
      " 0.71577322 0.73140651 0.75032087 0.7574234  0.75701809 0.778538\n",
      " 0.74736791 0.77364536 0.74294813 0.75078408 0.77422437 0.80029916\n",
      " 0.85254524 0.85493848 0.85143546 0.84374427 0.85554644 0.81911701\n",
      " 0.83950784 0.87319662 0.89314355 0.91854282 0.87155609 0.88563571\n",
      " 0.80063691 0.84510495 0.90226297 0.82209533 0.81484258 0.78917164\n",
      " 0.7600975  0.7317819  0.70571053 0.68266821]\n",
      "7 day output [[0.66296357]]\n",
      "8 day input [0.75545476 0.725269   0.73337515 0.65756333 0.69098191 0.71113148\n",
      " 0.73424367 0.76119662 0.78987696 0.78048733 0.79368878 0.80822195\n",
      " 0.82786007 0.80201689 0.81034499 0.80650422 0.80461279 0.80647527\n",
      " 0.85182147 0.84417853 0.85279614 0.80637877 0.79813752 0.8186152\n",
      " 0.79373703 0.81290229 0.82724246 0.77858625 0.7735778  0.76444873\n",
      " 0.77003619 0.79499156 0.78864174 0.78714596 0.77143546 0.79720145\n",
      " 0.80628227 0.79468275 0.80588661 0.84404343 0.83326417 0.86379735\n",
      " 0.86314113 0.87238601 0.89236188 0.92930277 0.91423884 0.92476719\n",
      " 0.91521351 0.93986972 1.         0.91519421 0.86858384 0.81298914\n",
      " 0.83579252 0.81535344 0.8054234  0.79873583 0.82410615 0.80188179\n",
      " 0.77770808 0.74301568 0.72279855 0.75144029 0.70277443 0.71577322\n",
      " 0.73140651 0.75032087 0.7574234  0.75701809 0.778538   0.74736791\n",
      " 0.77364536 0.74294813 0.75078408 0.77422437 0.80029916 0.85254524\n",
      " 0.85493848 0.85143546 0.84374427 0.85554644 0.81911701 0.83950784\n",
      " 0.87319662 0.89314355 0.91854282 0.87155609 0.88563571 0.80063691\n",
      " 0.84510495 0.90226297 0.82209533 0.81484258 0.78917164 0.7600975\n",
      " 0.7317819  0.70571053 0.68266821 0.66296357]\n"
     ]
    },
    {
     "name": "stdout",
     "output_type": "stream",
     "text": [
      "8 day output [[0.6464715]]\n",
      "9 day input [0.725269   0.73337515 0.65756333 0.69098191 0.71113148 0.73424367\n",
      " 0.76119662 0.78987696 0.78048733 0.79368878 0.80822195 0.82786007\n",
      " 0.80201689 0.81034499 0.80650422 0.80461279 0.80647527 0.85182147\n",
      " 0.84417853 0.85279614 0.80637877 0.79813752 0.8186152  0.79373703\n",
      " 0.81290229 0.82724246 0.77858625 0.7735778  0.76444873 0.77003619\n",
      " 0.79499156 0.78864174 0.78714596 0.77143546 0.79720145 0.80628227\n",
      " 0.79468275 0.80588661 0.84404343 0.83326417 0.86379735 0.86314113\n",
      " 0.87238601 0.89236188 0.92930277 0.91423884 0.92476719 0.91521351\n",
      " 0.93986972 1.         0.91519421 0.86858384 0.81298914 0.83579252\n",
      " 0.81535344 0.8054234  0.79873583 0.82410615 0.80188179 0.77770808\n",
      " 0.74301568 0.72279855 0.75144029 0.70277443 0.71577322 0.73140651\n",
      " 0.75032087 0.7574234  0.75701809 0.778538   0.74736791 0.77364536\n",
      " 0.74294813 0.75078408 0.77422437 0.80029916 0.85254524 0.85493848\n",
      " 0.85143546 0.84374427 0.85554644 0.81911701 0.83950784 0.87319662\n",
      " 0.89314355 0.91854282 0.87155609 0.88563571 0.80063691 0.84510495\n",
      " 0.90226297 0.82209533 0.81484258 0.78917164 0.7600975  0.7317819\n",
      " 0.70571053 0.68266821 0.66296357 0.6464715 ]\n",
      "9 day output [[0.63273007]]\n",
      "10 day input [0.73337515 0.65756333 0.69098191 0.71113148 0.73424367 0.76119662\n",
      " 0.78987696 0.78048733 0.79368878 0.80822195 0.82786007 0.80201689\n",
      " 0.81034499 0.80650422 0.80461279 0.80647527 0.85182147 0.84417853\n",
      " 0.85279614 0.80637877 0.79813752 0.8186152  0.79373703 0.81290229\n",
      " 0.82724246 0.77858625 0.7735778  0.76444873 0.77003619 0.79499156\n",
      " 0.78864174 0.78714596 0.77143546 0.79720145 0.80628227 0.79468275\n",
      " 0.80588661 0.84404343 0.83326417 0.86379735 0.86314113 0.87238601\n",
      " 0.89236188 0.92930277 0.91423884 0.92476719 0.91521351 0.93986972\n",
      " 1.         0.91519421 0.86858384 0.81298914 0.83579252 0.81535344\n",
      " 0.8054234  0.79873583 0.82410615 0.80188179 0.77770808 0.74301568\n",
      " 0.72279855 0.75144029 0.70277443 0.71577322 0.73140651 0.75032087\n",
      " 0.7574234  0.75701809 0.778538   0.74736791 0.77364536 0.74294813\n",
      " 0.75078408 0.77422437 0.80029916 0.85254524 0.85493848 0.85143546\n",
      " 0.84374427 0.85554644 0.81911701 0.83950784 0.87319662 0.89314355\n",
      " 0.91854282 0.87155609 0.88563571 0.80063691 0.84510495 0.90226297\n",
      " 0.82209533 0.81484258 0.78917164 0.7600975  0.7317819  0.70571053\n",
      " 0.68266821 0.66296357 0.6464715  0.63273007]\n",
      "10 day output [[0.6210758]]\n",
      "11 day input [0.65756333 0.69098191 0.71113148 0.73424367 0.76119662 0.78987696\n",
      " 0.78048733 0.79368878 0.80822195 0.82786007 0.80201689 0.81034499\n",
      " 0.80650422 0.80461279 0.80647527 0.85182147 0.84417853 0.85279614\n",
      " 0.80637877 0.79813752 0.8186152  0.79373703 0.81290229 0.82724246\n",
      " 0.77858625 0.7735778  0.76444873 0.77003619 0.79499156 0.78864174\n",
      " 0.78714596 0.77143546 0.79720145 0.80628227 0.79468275 0.80588661\n",
      " 0.84404343 0.83326417 0.86379735 0.86314113 0.87238601 0.89236188\n",
      " 0.92930277 0.91423884 0.92476719 0.91521351 0.93986972 1.\n",
      " 0.91519421 0.86858384 0.81298914 0.83579252 0.81535344 0.8054234\n",
      " 0.79873583 0.82410615 0.80188179 0.77770808 0.74301568 0.72279855\n",
      " 0.75144029 0.70277443 0.71577322 0.73140651 0.75032087 0.7574234\n",
      " 0.75701809 0.778538   0.74736791 0.77364536 0.74294813 0.75078408\n",
      " 0.77422437 0.80029916 0.85254524 0.85493848 0.85143546 0.84374427\n",
      " 0.85554644 0.81911701 0.83950784 0.87319662 0.89314355 0.91854282\n",
      " 0.87155609 0.88563571 0.80063691 0.84510495 0.90226297 0.82209533\n",
      " 0.81484258 0.78917164 0.7600975  0.7317819  0.70571053 0.68266821\n",
      " 0.66296357 0.6464715  0.63273007 0.62107581]\n",
      "11 day output [[0.61077946]]\n",
      "12 day input [0.69098191 0.71113148 0.73424367 0.76119662 0.78987696 0.78048733\n",
      " 0.79368878 0.80822195 0.82786007 0.80201689 0.81034499 0.80650422\n",
      " 0.80461279 0.80647527 0.85182147 0.84417853 0.85279614 0.80637877\n",
      " 0.79813752 0.8186152  0.79373703 0.81290229 0.82724246 0.77858625\n",
      " 0.7735778  0.76444873 0.77003619 0.79499156 0.78864174 0.78714596\n",
      " 0.77143546 0.79720145 0.80628227 0.79468275 0.80588661 0.84404343\n",
      " 0.83326417 0.86379735 0.86314113 0.87238601 0.89236188 0.92930277\n",
      " 0.91423884 0.92476719 0.91521351 0.93986972 1.         0.91519421\n",
      " 0.86858384 0.81298914 0.83579252 0.81535344 0.8054234  0.79873583\n",
      " 0.82410615 0.80188179 0.77770808 0.74301568 0.72279855 0.75144029\n",
      " 0.70277443 0.71577322 0.73140651 0.75032087 0.7574234  0.75701809\n",
      " 0.778538   0.74736791 0.77364536 0.74294813 0.75078408 0.77422437\n",
      " 0.80029916 0.85254524 0.85493848 0.85143546 0.84374427 0.85554644\n",
      " 0.81911701 0.83950784 0.87319662 0.89314355 0.91854282 0.87155609\n",
      " 0.88563571 0.80063691 0.84510495 0.90226297 0.82209533 0.81484258\n",
      " 0.78917164 0.7600975  0.7317819  0.70571053 0.68266821 0.66296357\n",
      " 0.6464715  0.63273007 0.62107581 0.61077946]\n",
      "12 day output [[0.6011616]]\n",
      "13 day input [0.71113148 0.73424367 0.76119662 0.78987696 0.78048733 0.79368878\n",
      " 0.80822195 0.82786007 0.80201689 0.81034499 0.80650422 0.80461279\n",
      " 0.80647527 0.85182147 0.84417853 0.85279614 0.80637877 0.79813752\n",
      " 0.8186152  0.79373703 0.81290229 0.82724246 0.77858625 0.7735778\n",
      " 0.76444873 0.77003619 0.79499156 0.78864174 0.78714596 0.77143546\n",
      " 0.79720145 0.80628227 0.79468275 0.80588661 0.84404343 0.83326417\n",
      " 0.86379735 0.86314113 0.87238601 0.89236188 0.92930277 0.91423884\n",
      " 0.92476719 0.91521351 0.93986972 1.         0.91519421 0.86858384\n",
      " 0.81298914 0.83579252 0.81535344 0.8054234  0.79873583 0.82410615\n",
      " 0.80188179 0.77770808 0.74301568 0.72279855 0.75144029 0.70277443\n",
      " 0.71577322 0.73140651 0.75032087 0.7574234  0.75701809 0.778538\n",
      " 0.74736791 0.77364536 0.74294813 0.75078408 0.77422437 0.80029916\n",
      " 0.85254524 0.85493848 0.85143546 0.84374427 0.85554644 0.81911701\n",
      " 0.83950784 0.87319662 0.89314355 0.91854282 0.87155609 0.88563571\n",
      " 0.80063691 0.84510495 0.90226297 0.82209533 0.81484258 0.78917164\n",
      " 0.7600975  0.7317819  0.70571053 0.68266821 0.66296357 0.6464715\n",
      " 0.63273007 0.62107581 0.61077946 0.6011616 ]\n",
      "13 day output [[0.5916747]]\n",
      "14 day input [0.73424367 0.76119662 0.78987696 0.78048733 0.79368878 0.80822195\n",
      " 0.82786007 0.80201689 0.81034499 0.80650422 0.80461279 0.80647527\n",
      " 0.85182147 0.84417853 0.85279614 0.80637877 0.79813752 0.8186152\n",
      " 0.79373703 0.81290229 0.82724246 0.77858625 0.7735778  0.76444873\n",
      " 0.77003619 0.79499156 0.78864174 0.78714596 0.77143546 0.79720145\n",
      " 0.80628227 0.79468275 0.80588661 0.84404343 0.83326417 0.86379735\n",
      " 0.86314113 0.87238601 0.89236188 0.92930277 0.91423884 0.92476719\n",
      " 0.91521351 0.93986972 1.         0.91519421 0.86858384 0.81298914\n",
      " 0.83579252 0.81535344 0.8054234  0.79873583 0.82410615 0.80188179\n",
      " 0.77770808 0.74301568 0.72279855 0.75144029 0.70277443 0.71577322\n",
      " 0.73140651 0.75032087 0.7574234  0.75701809 0.778538   0.74736791\n",
      " 0.77364536 0.74294813 0.75078408 0.77422437 0.80029916 0.85254524\n",
      " 0.85493848 0.85143546 0.84374427 0.85554644 0.81911701 0.83950784\n",
      " 0.87319662 0.89314355 0.91854282 0.87155609 0.88563571 0.80063691\n",
      " 0.84510495 0.90226297 0.82209533 0.81484258 0.78917164 0.7600975\n",
      " 0.7317819  0.70571053 0.68266821 0.66296357 0.6464715  0.63273007\n",
      " 0.62107581 0.61077946 0.6011616  0.59167469]\n",
      "14 day output [[0.5819473]]\n",
      "15 day input [0.76119662 0.78987696 0.78048733 0.79368878 0.80822195 0.82786007\n",
      " 0.80201689 0.81034499 0.80650422 0.80461279 0.80647527 0.85182147\n",
      " 0.84417853 0.85279614 0.80637877 0.79813752 0.8186152  0.79373703\n",
      " 0.81290229 0.82724246 0.77858625 0.7735778  0.76444873 0.77003619\n",
      " 0.79499156 0.78864174 0.78714596 0.77143546 0.79720145 0.80628227\n",
      " 0.79468275 0.80588661 0.84404343 0.83326417 0.86379735 0.86314113\n",
      " 0.87238601 0.89236188 0.92930277 0.91423884 0.92476719 0.91521351\n",
      " 0.93986972 1.         0.91519421 0.86858384 0.81298914 0.83579252\n",
      " 0.81535344 0.8054234  0.79873583 0.82410615 0.80188179 0.77770808\n",
      " 0.74301568 0.72279855 0.75144029 0.70277443 0.71577322 0.73140651\n",
      " 0.75032087 0.7574234  0.75701809 0.778538   0.74736791 0.77364536\n",
      " 0.74294813 0.75078408 0.77422437 0.80029916 0.85254524 0.85493848\n",
      " 0.85143546 0.84374427 0.85554644 0.81911701 0.83950784 0.87319662\n",
      " 0.89314355 0.91854282 0.87155609 0.88563571 0.80063691 0.84510495\n",
      " 0.90226297 0.82209533 0.81484258 0.78917164 0.7600975  0.7317819\n",
      " 0.70571053 0.68266821 0.66296357 0.6464715  0.63273007 0.62107581\n",
      " 0.61077946 0.6011616  0.59167469 0.58194733]\n",
      "15 day output [[0.5717934]]\n",
      "16 day input [0.78987696 0.78048733 0.79368878 0.80822195 0.82786007 0.80201689\n",
      " 0.81034499 0.80650422 0.80461279 0.80647527 0.85182147 0.84417853\n",
      " 0.85279614 0.80637877 0.79813752 0.8186152  0.79373703 0.81290229\n",
      " 0.82724246 0.77858625 0.7735778  0.76444873 0.77003619 0.79499156\n",
      " 0.78864174 0.78714596 0.77143546 0.79720145 0.80628227 0.79468275\n",
      " 0.80588661 0.84404343 0.83326417 0.86379735 0.86314113 0.87238601\n",
      " 0.89236188 0.92930277 0.91423884 0.92476719 0.91521351 0.93986972\n",
      " 1.         0.91519421 0.86858384 0.81298914 0.83579252 0.81535344\n",
      " 0.8054234  0.79873583 0.82410615 0.80188179 0.77770808 0.74301568\n",
      " 0.72279855 0.75144029 0.70277443 0.71577322 0.73140651 0.75032087\n",
      " 0.7574234  0.75701809 0.778538   0.74736791 0.77364536 0.74294813\n",
      " 0.75078408 0.77422437 0.80029916 0.85254524 0.85493848 0.85143546\n",
      " 0.84374427 0.85554644 0.81911701 0.83950784 0.87319662 0.89314355\n",
      " 0.91854282 0.87155609 0.88563571 0.80063691 0.84510495 0.90226297\n",
      " 0.82209533 0.81484258 0.78917164 0.7600975  0.7317819  0.70571053\n",
      " 0.68266821 0.66296357 0.6464715  0.63273007 0.62107581 0.61077946\n",
      " 0.6011616  0.59167469 0.58194733 0.57179338]\n"
     ]
    },
    {
     "name": "stdout",
     "output_type": "stream",
     "text": [
      "16 day output [[0.5611906]]\n",
      "17 day input [0.78048733 0.79368878 0.80822195 0.82786007 0.80201689 0.81034499\n",
      " 0.80650422 0.80461279 0.80647527 0.85182147 0.84417853 0.85279614\n",
      " 0.80637877 0.79813752 0.8186152  0.79373703 0.81290229 0.82724246\n",
      " 0.77858625 0.7735778  0.76444873 0.77003619 0.79499156 0.78864174\n",
      " 0.78714596 0.77143546 0.79720145 0.80628227 0.79468275 0.80588661\n",
      " 0.84404343 0.83326417 0.86379735 0.86314113 0.87238601 0.89236188\n",
      " 0.92930277 0.91423884 0.92476719 0.91521351 0.93986972 1.\n",
      " 0.91519421 0.86858384 0.81298914 0.83579252 0.81535344 0.8054234\n",
      " 0.79873583 0.82410615 0.80188179 0.77770808 0.74301568 0.72279855\n",
      " 0.75144029 0.70277443 0.71577322 0.73140651 0.75032087 0.7574234\n",
      " 0.75701809 0.778538   0.74736791 0.77364536 0.74294813 0.75078408\n",
      " 0.77422437 0.80029916 0.85254524 0.85493848 0.85143546 0.84374427\n",
      " 0.85554644 0.81911701 0.83950784 0.87319662 0.89314355 0.91854282\n",
      " 0.87155609 0.88563571 0.80063691 0.84510495 0.90226297 0.82209533\n",
      " 0.81484258 0.78917164 0.7600975  0.7317819  0.70571053 0.68266821\n",
      " 0.66296357 0.6464715  0.63273007 0.62107581 0.61077946 0.6011616\n",
      " 0.59167469 0.58194733 0.57179338 0.56119061]\n",
      "17 day output [[0.5502428]]\n",
      "18 day input [0.79368878 0.80822195 0.82786007 0.80201689 0.81034499 0.80650422\n",
      " 0.80461279 0.80647527 0.85182147 0.84417853 0.85279614 0.80637877\n",
      " 0.79813752 0.8186152  0.79373703 0.81290229 0.82724246 0.77858625\n",
      " 0.7735778  0.76444873 0.77003619 0.79499156 0.78864174 0.78714596\n",
      " 0.77143546 0.79720145 0.80628227 0.79468275 0.80588661 0.84404343\n",
      " 0.83326417 0.86379735 0.86314113 0.87238601 0.89236188 0.92930277\n",
      " 0.91423884 0.92476719 0.91521351 0.93986972 1.         0.91519421\n",
      " 0.86858384 0.81298914 0.83579252 0.81535344 0.8054234  0.79873583\n",
      " 0.82410615 0.80188179 0.77770808 0.74301568 0.72279855 0.75144029\n",
      " 0.70277443 0.71577322 0.73140651 0.75032087 0.7574234  0.75701809\n",
      " 0.778538   0.74736791 0.77364536 0.74294813 0.75078408 0.77422437\n",
      " 0.80029916 0.85254524 0.85493848 0.85143546 0.84374427 0.85554644\n",
      " 0.81911701 0.83950784 0.87319662 0.89314355 0.91854282 0.87155609\n",
      " 0.88563571 0.80063691 0.84510495 0.90226297 0.82209533 0.81484258\n",
      " 0.78917164 0.7600975  0.7317819  0.70571053 0.68266821 0.66296357\n",
      " 0.6464715  0.63273007 0.62107581 0.61077946 0.6011616  0.59167469\n",
      " 0.58194733 0.57179338 0.56119061 0.55024278]\n",
      "18 day output [[0.5391271]]\n",
      "19 day input [0.80822195 0.82786007 0.80201689 0.81034499 0.80650422 0.80461279\n",
      " 0.80647527 0.85182147 0.84417853 0.85279614 0.80637877 0.79813752\n",
      " 0.8186152  0.79373703 0.81290229 0.82724246 0.77858625 0.7735778\n",
      " 0.76444873 0.77003619 0.79499156 0.78864174 0.78714596 0.77143546\n",
      " 0.79720145 0.80628227 0.79468275 0.80588661 0.84404343 0.83326417\n",
      " 0.86379735 0.86314113 0.87238601 0.89236188 0.92930277 0.91423884\n",
      " 0.92476719 0.91521351 0.93986972 1.         0.91519421 0.86858384\n",
      " 0.81298914 0.83579252 0.81535344 0.8054234  0.79873583 0.82410615\n",
      " 0.80188179 0.77770808 0.74301568 0.72279855 0.75144029 0.70277443\n",
      " 0.71577322 0.73140651 0.75032087 0.7574234  0.75701809 0.778538\n",
      " 0.74736791 0.77364536 0.74294813 0.75078408 0.77422437 0.80029916\n",
      " 0.85254524 0.85493848 0.85143546 0.84374427 0.85554644 0.81911701\n",
      " 0.83950784 0.87319662 0.89314355 0.91854282 0.87155609 0.88563571\n",
      " 0.80063691 0.84510495 0.90226297 0.82209533 0.81484258 0.78917164\n",
      " 0.7600975  0.7317819  0.70571053 0.68266821 0.66296357 0.6464715\n",
      " 0.63273007 0.62107581 0.61077946 0.6011616  0.59167469 0.58194733\n",
      " 0.57179338 0.56119061 0.55024278 0.53912711]\n",
      "19 day output [[0.52804637]]\n",
      "20 day input [0.82786007 0.80201689 0.81034499 0.80650422 0.80461279 0.80647527\n",
      " 0.85182147 0.84417853 0.85279614 0.80637877 0.79813752 0.8186152\n",
      " 0.79373703 0.81290229 0.82724246 0.77858625 0.7735778  0.76444873\n",
      " 0.77003619 0.79499156 0.78864174 0.78714596 0.77143546 0.79720145\n",
      " 0.80628227 0.79468275 0.80588661 0.84404343 0.83326417 0.86379735\n",
      " 0.86314113 0.87238601 0.89236188 0.92930277 0.91423884 0.92476719\n",
      " 0.91521351 0.93986972 1.         0.91519421 0.86858384 0.81298914\n",
      " 0.83579252 0.81535344 0.8054234  0.79873583 0.82410615 0.80188179\n",
      " 0.77770808 0.74301568 0.72279855 0.75144029 0.70277443 0.71577322\n",
      " 0.73140651 0.75032087 0.7574234  0.75701809 0.778538   0.74736791\n",
      " 0.77364536 0.74294813 0.75078408 0.77422437 0.80029916 0.85254524\n",
      " 0.85493848 0.85143546 0.84374427 0.85554644 0.81911701 0.83950784\n",
      " 0.87319662 0.89314355 0.91854282 0.87155609 0.88563571 0.80063691\n",
      " 0.84510495 0.90226297 0.82209533 0.81484258 0.78917164 0.7600975\n",
      " 0.7317819  0.70571053 0.68266821 0.66296357 0.6464715  0.63273007\n",
      " 0.62107581 0.61077946 0.6011616  0.59167469 0.58194733 0.57179338\n",
      " 0.56119061 0.55024278 0.53912711 0.52804637]\n",
      "20 day output [[0.51718414]]\n",
      "21 day input [0.80201689 0.81034499 0.80650422 0.80461279 0.80647527 0.85182147\n",
      " 0.84417853 0.85279614 0.80637877 0.79813752 0.8186152  0.79373703\n",
      " 0.81290229 0.82724246 0.77858625 0.7735778  0.76444873 0.77003619\n",
      " 0.79499156 0.78864174 0.78714596 0.77143546 0.79720145 0.80628227\n",
      " 0.79468275 0.80588661 0.84404343 0.83326417 0.86379735 0.86314113\n",
      " 0.87238601 0.89236188 0.92930277 0.91423884 0.92476719 0.91521351\n",
      " 0.93986972 1.         0.91519421 0.86858384 0.81298914 0.83579252\n",
      " 0.81535344 0.8054234  0.79873583 0.82410615 0.80188179 0.77770808\n",
      " 0.74301568 0.72279855 0.75144029 0.70277443 0.71577322 0.73140651\n",
      " 0.75032087 0.7574234  0.75701809 0.778538   0.74736791 0.77364536\n",
      " 0.74294813 0.75078408 0.77422437 0.80029916 0.85254524 0.85493848\n",
      " 0.85143546 0.84374427 0.85554644 0.81911701 0.83950784 0.87319662\n",
      " 0.89314355 0.91854282 0.87155609 0.88563571 0.80063691 0.84510495\n",
      " 0.90226297 0.82209533 0.81484258 0.78917164 0.7600975  0.7317819\n",
      " 0.70571053 0.68266821 0.66296357 0.6464715  0.63273007 0.62107581\n",
      " 0.61077946 0.6011616  0.59167469 0.58194733 0.57179338 0.56119061\n",
      " 0.55024278 0.53912711 0.52804637 0.51718414]\n",
      "21 day output [[0.5066761]]\n",
      "22 day input [0.81034499 0.80650422 0.80461279 0.80647527 0.85182147 0.84417853\n",
      " 0.85279614 0.80637877 0.79813752 0.8186152  0.79373703 0.81290229\n",
      " 0.82724246 0.77858625 0.7735778  0.76444873 0.77003619 0.79499156\n",
      " 0.78864174 0.78714596 0.77143546 0.79720145 0.80628227 0.79468275\n",
      " 0.80588661 0.84404343 0.83326417 0.86379735 0.86314113 0.87238601\n",
      " 0.89236188 0.92930277 0.91423884 0.92476719 0.91521351 0.93986972\n",
      " 1.         0.91519421 0.86858384 0.81298914 0.83579252 0.81535344\n",
      " 0.8054234  0.79873583 0.82410615 0.80188179 0.77770808 0.74301568\n",
      " 0.72279855 0.75144029 0.70277443 0.71577322 0.73140651 0.75032087\n",
      " 0.7574234  0.75701809 0.778538   0.74736791 0.77364536 0.74294813\n",
      " 0.75078408 0.77422437 0.80029916 0.85254524 0.85493848 0.85143546\n",
      " 0.84374427 0.85554644 0.81911701 0.83950784 0.87319662 0.89314355\n",
      " 0.91854282 0.87155609 0.88563571 0.80063691 0.84510495 0.90226297\n",
      " 0.82209533 0.81484258 0.78917164 0.7600975  0.7317819  0.70571053\n",
      " 0.68266821 0.66296357 0.6464715  0.63273007 0.62107581 0.61077946\n",
      " 0.6011616  0.59167469 0.58194733 0.57179338 0.56119061 0.55024278\n",
      " 0.53912711 0.52804637 0.51718414 0.50667608]\n",
      "22 day output [[0.49659285]]\n",
      "23 day input [0.80650422 0.80461279 0.80647527 0.85182147 0.84417853 0.85279614\n",
      " 0.80637877 0.79813752 0.8186152  0.79373703 0.81290229 0.82724246\n",
      " 0.77858625 0.7735778  0.76444873 0.77003619 0.79499156 0.78864174\n",
      " 0.78714596 0.77143546 0.79720145 0.80628227 0.79468275 0.80588661\n",
      " 0.84404343 0.83326417 0.86379735 0.86314113 0.87238601 0.89236188\n",
      " 0.92930277 0.91423884 0.92476719 0.91521351 0.93986972 1.\n",
      " 0.91519421 0.86858384 0.81298914 0.83579252 0.81535344 0.8054234\n",
      " 0.79873583 0.82410615 0.80188179 0.77770808 0.74301568 0.72279855\n",
      " 0.75144029 0.70277443 0.71577322 0.73140651 0.75032087 0.7574234\n",
      " 0.75701809 0.778538   0.74736791 0.77364536 0.74294813 0.75078408\n",
      " 0.77422437 0.80029916 0.85254524 0.85493848 0.85143546 0.84374427\n",
      " 0.85554644 0.81911701 0.83950784 0.87319662 0.89314355 0.91854282\n",
      " 0.87155609 0.88563571 0.80063691 0.84510495 0.90226297 0.82209533\n",
      " 0.81484258 0.78917164 0.7600975  0.7317819  0.70571053 0.68266821\n",
      " 0.66296357 0.6464715  0.63273007 0.62107581 0.61077946 0.6011616\n",
      " 0.59167469 0.58194733 0.57179338 0.56119061 0.55024278 0.53912711\n",
      " 0.52804637 0.51718414 0.50667608 0.49659285]\n",
      "23 day output [[0.4869397]]\n",
      "24 day input [0.80461279 0.80647527 0.85182147 0.84417853 0.85279614 0.80637877\n",
      " 0.79813752 0.8186152  0.79373703 0.81290229 0.82724246 0.77858625\n",
      " 0.7735778  0.76444873 0.77003619 0.79499156 0.78864174 0.78714596\n",
      " 0.77143546 0.79720145 0.80628227 0.79468275 0.80588661 0.84404343\n",
      " 0.83326417 0.86379735 0.86314113 0.87238601 0.89236188 0.92930277\n",
      " 0.91423884 0.92476719 0.91521351 0.93986972 1.         0.91519421\n",
      " 0.86858384 0.81298914 0.83579252 0.81535344 0.8054234  0.79873583\n",
      " 0.82410615 0.80188179 0.77770808 0.74301568 0.72279855 0.75144029\n",
      " 0.70277443 0.71577322 0.73140651 0.75032087 0.7574234  0.75701809\n",
      " 0.778538   0.74736791 0.77364536 0.74294813 0.75078408 0.77422437\n",
      " 0.80029916 0.85254524 0.85493848 0.85143546 0.84374427 0.85554644\n",
      " 0.81911701 0.83950784 0.87319662 0.89314355 0.91854282 0.87155609\n",
      " 0.88563571 0.80063691 0.84510495 0.90226297 0.82209533 0.81484258\n",
      " 0.78917164 0.7600975  0.7317819  0.70571053 0.68266821 0.66296357\n",
      " 0.6464715  0.63273007 0.62107581 0.61077946 0.6011616  0.59167469\n",
      " 0.58194733 0.57179338 0.56119061 0.55024278 0.53912711 0.52804637\n",
      " 0.51718414 0.50667608 0.49659285 0.4869397 ]\n"
     ]
    },
    {
     "name": "stdout",
     "output_type": "stream",
     "text": [
      "24 day output [[0.47766694]]\n",
      "25 day input [0.80647527 0.85182147 0.84417853 0.85279614 0.80637877 0.79813752\n",
      " 0.8186152  0.79373703 0.81290229 0.82724246 0.77858625 0.7735778\n",
      " 0.76444873 0.77003619 0.79499156 0.78864174 0.78714596 0.77143546\n",
      " 0.79720145 0.80628227 0.79468275 0.80588661 0.84404343 0.83326417\n",
      " 0.86379735 0.86314113 0.87238601 0.89236188 0.92930277 0.91423884\n",
      " 0.92476719 0.91521351 0.93986972 1.         0.91519421 0.86858384\n",
      " 0.81298914 0.83579252 0.81535344 0.8054234  0.79873583 0.82410615\n",
      " 0.80188179 0.77770808 0.74301568 0.72279855 0.75144029 0.70277443\n",
      " 0.71577322 0.73140651 0.75032087 0.7574234  0.75701809 0.778538\n",
      " 0.74736791 0.77364536 0.74294813 0.75078408 0.77422437 0.80029916\n",
      " 0.85254524 0.85493848 0.85143546 0.84374427 0.85554644 0.81911701\n",
      " 0.83950784 0.87319662 0.89314355 0.91854282 0.87155609 0.88563571\n",
      " 0.80063691 0.84510495 0.90226297 0.82209533 0.81484258 0.78917164\n",
      " 0.7600975  0.7317819  0.70571053 0.68266821 0.66296357 0.6464715\n",
      " 0.63273007 0.62107581 0.61077946 0.6011616  0.59167469 0.58194733\n",
      " 0.57179338 0.56119061 0.55024278 0.53912711 0.52804637 0.51718414\n",
      " 0.50667608 0.49659285 0.4869397  0.47766694]\n",
      "25 day output [[0.4686867]]\n",
      "26 day input [0.85182147 0.84417853 0.85279614 0.80637877 0.79813752 0.8186152\n",
      " 0.79373703 0.81290229 0.82724246 0.77858625 0.7735778  0.76444873\n",
      " 0.77003619 0.79499156 0.78864174 0.78714596 0.77143546 0.79720145\n",
      " 0.80628227 0.79468275 0.80588661 0.84404343 0.83326417 0.86379735\n",
      " 0.86314113 0.87238601 0.89236188 0.92930277 0.91423884 0.92476719\n",
      " 0.91521351 0.93986972 1.         0.91519421 0.86858384 0.81298914\n",
      " 0.83579252 0.81535344 0.8054234  0.79873583 0.82410615 0.80188179\n",
      " 0.77770808 0.74301568 0.72279855 0.75144029 0.70277443 0.71577322\n",
      " 0.73140651 0.75032087 0.7574234  0.75701809 0.778538   0.74736791\n",
      " 0.77364536 0.74294813 0.75078408 0.77422437 0.80029916 0.85254524\n",
      " 0.85493848 0.85143546 0.84374427 0.85554644 0.81911701 0.83950784\n",
      " 0.87319662 0.89314355 0.91854282 0.87155609 0.88563571 0.80063691\n",
      " 0.84510495 0.90226297 0.82209533 0.81484258 0.78917164 0.7600975\n",
      " 0.7317819  0.70571053 0.68266821 0.66296357 0.6464715  0.63273007\n",
      " 0.62107581 0.61077946 0.6011616  0.59167469 0.58194733 0.57179338\n",
      " 0.56119061 0.55024278 0.53912711 0.52804637 0.51718414 0.50667608\n",
      " 0.49659285 0.4869397  0.47766694 0.4686867 ]\n",
      "26 day output [[0.45989496]]\n",
      "27 day input [0.84417853 0.85279614 0.80637877 0.79813752 0.8186152  0.79373703\n",
      " 0.81290229 0.82724246 0.77858625 0.7735778  0.76444873 0.77003619\n",
      " 0.79499156 0.78864174 0.78714596 0.77143546 0.79720145 0.80628227\n",
      " 0.79468275 0.80588661 0.84404343 0.83326417 0.86379735 0.86314113\n",
      " 0.87238601 0.89236188 0.92930277 0.91423884 0.92476719 0.91521351\n",
      " 0.93986972 1.         0.91519421 0.86858384 0.81298914 0.83579252\n",
      " 0.81535344 0.8054234  0.79873583 0.82410615 0.80188179 0.77770808\n",
      " 0.74301568 0.72279855 0.75144029 0.70277443 0.71577322 0.73140651\n",
      " 0.75032087 0.7574234  0.75701809 0.778538   0.74736791 0.77364536\n",
      " 0.74294813 0.75078408 0.77422437 0.80029916 0.85254524 0.85493848\n",
      " 0.85143546 0.84374427 0.85554644 0.81911701 0.83950784 0.87319662\n",
      " 0.89314355 0.91854282 0.87155609 0.88563571 0.80063691 0.84510495\n",
      " 0.90226297 0.82209533 0.81484258 0.78917164 0.7600975  0.7317819\n",
      " 0.70571053 0.68266821 0.66296357 0.6464715  0.63273007 0.62107581\n",
      " 0.61077946 0.6011616  0.59167469 0.58194733 0.57179338 0.56119061\n",
      " 0.55024278 0.53912711 0.52804637 0.51718414 0.50667608 0.49659285\n",
      " 0.4869397  0.47766694 0.4686867  0.45989496]\n",
      "27 day output [[0.45119032]]\n",
      "28 day input [0.85279614 0.80637877 0.79813752 0.8186152  0.79373703 0.81290229\n",
      " 0.82724246 0.77858625 0.7735778  0.76444873 0.77003619 0.79499156\n",
      " 0.78864174 0.78714596 0.77143546 0.79720145 0.80628227 0.79468275\n",
      " 0.80588661 0.84404343 0.83326417 0.86379735 0.86314113 0.87238601\n",
      " 0.89236188 0.92930277 0.91423884 0.92476719 0.91521351 0.93986972\n",
      " 1.         0.91519421 0.86858384 0.81298914 0.83579252 0.81535344\n",
      " 0.8054234  0.79873583 0.82410615 0.80188179 0.77770808 0.74301568\n",
      " 0.72279855 0.75144029 0.70277443 0.71577322 0.73140651 0.75032087\n",
      " 0.7574234  0.75701809 0.778538   0.74736791 0.77364536 0.74294813\n",
      " 0.75078408 0.77422437 0.80029916 0.85254524 0.85493848 0.85143546\n",
      " 0.84374427 0.85554644 0.81911701 0.83950784 0.87319662 0.89314355\n",
      " 0.91854282 0.87155609 0.88563571 0.80063691 0.84510495 0.90226297\n",
      " 0.82209533 0.81484258 0.78917164 0.7600975  0.7317819  0.70571053\n",
      " 0.68266821 0.66296357 0.6464715  0.63273007 0.62107581 0.61077946\n",
      " 0.6011616  0.59167469 0.58194733 0.57179338 0.56119061 0.55024278\n",
      " 0.53912711 0.52804637 0.51718414 0.50667608 0.49659285 0.4869397\n",
      " 0.47766694 0.4686867  0.45989496 0.45119032]\n",
      "28 day output [[0.44249046]]\n",
      "29 day input [0.80637877 0.79813752 0.8186152  0.79373703 0.81290229 0.82724246\n",
      " 0.77858625 0.7735778  0.76444873 0.77003619 0.79499156 0.78864174\n",
      " 0.78714596 0.77143546 0.79720145 0.80628227 0.79468275 0.80588661\n",
      " 0.84404343 0.83326417 0.86379735 0.86314113 0.87238601 0.89236188\n",
      " 0.92930277 0.91423884 0.92476719 0.91521351 0.93986972 1.\n",
      " 0.91519421 0.86858384 0.81298914 0.83579252 0.81535344 0.8054234\n",
      " 0.79873583 0.82410615 0.80188179 0.77770808 0.74301568 0.72279855\n",
      " 0.75144029 0.70277443 0.71577322 0.73140651 0.75032087 0.7574234\n",
      " 0.75701809 0.778538   0.74736791 0.77364536 0.74294813 0.75078408\n",
      " 0.77422437 0.80029916 0.85254524 0.85493848 0.85143546 0.84374427\n",
      " 0.85554644 0.81911701 0.83950784 0.87319662 0.89314355 0.91854282\n",
      " 0.87155609 0.88563571 0.80063691 0.84510495 0.90226297 0.82209533\n",
      " 0.81484258 0.78917164 0.7600975  0.7317819  0.70571053 0.68266821\n",
      " 0.66296357 0.6464715  0.63273007 0.62107581 0.61077946 0.6011616\n",
      " 0.59167469 0.58194733 0.57179338 0.56119061 0.55024278 0.53912711\n",
      " 0.52804637 0.51718414 0.50667608 0.49659285 0.4869397  0.47766694\n",
      " 0.4686867  0.45989496 0.45119032 0.44249046]\n",
      "29 day output [[0.43374175]]\n",
      "[[0.8220953345298767], [0.8148425817489624], [0.7891716361045837], [0.7600975036621094], [0.7317818999290466], [0.7057105302810669], [0.6826682090759277], [0.6629635691642761], [0.6464715003967285], [0.6327300667762756], [0.6210758090019226], [0.6107794642448425], [0.6011615991592407], [0.5916746854782104], [0.5819473266601562], [0.5717933773994446], [0.5611906051635742], [0.5502427816390991], [0.5391271114349365], [0.5280463695526123], [0.5171841382980347], [0.5066760778427124], [0.49659284949302673], [0.4869396984577179], [0.4776669442653656], [0.46868669986724854], [0.45989495515823364], [0.451190322637558], [0.44249045848846436], [0.4337417483329773]]\n"
     ]
    }
   ],
   "source": [
    "lst_output=[]\n",
    "n_steps=100\n",
    "i=0\n",
    "while(i<30):\n",
    "    \n",
    "    if(len(temp_input)>100):\n",
    "        #print(temp_input)\n",
    "        x_input=np.array(temp_input[1:])\n",
    "        print(\"{} day input {}\".format(i,x_input))\n",
    "        x_input=x_input.reshape(1,-1)\n",
    "        x_input = x_input.reshape((1, n_steps, 1))\n",
    "        #print(x_input)\n",
    "        yhat = model.predict(x_input, verbose=0)\n",
    "        print(\"{} day output {}\".format(i,yhat))\n",
    "        temp_input.extend(yhat[0].tolist())\n",
    "        temp_input=temp_input[1:]\n",
    "        #print(temp_input)\n",
    "        lst_output.extend(yhat.tolist())\n",
    "        i=i+1\n",
    "    else:\n",
    "        x_input = x_input.reshape((1, n_steps,1))\n",
    "        yhat = model.predict(x_input, verbose=0)\n",
    "        print(yhat[0])\n",
    "        temp_input.extend(yhat[0].tolist())\n",
    "        print(len(temp_input))\n",
    "        lst_output.extend(yhat.tolist())\n",
    "        i=i+1\n",
    "    \n",
    "\n",
    "print(lst_output)"
   ]
  },
  {
   "cell_type": "code",
   "execution_count": 61,
   "metadata": {},
   "outputs": [],
   "source": [
    "day_new=np.arange(1,101)\n",
    "day_pred=np.arange(101,131)\n"
   ]
  },
  {
   "cell_type": "code",
   "execution_count": 62,
   "metadata": {},
   "outputs": [
    {
     "data": {
      "text/plain": [
       "1259"
      ]
     },
     "execution_count": 62,
     "metadata": {},
     "output_type": "execute_result"
    }
   ],
   "source": [
    "len(df1)"
   ]
  },
  {
   "cell_type": "code",
   "execution_count": 63,
   "metadata": {},
   "outputs": [],
   "source": [
    "df3=df1.tolist()\n",
    "df3.extend(lst_output)"
   ]
  },
  {
   "cell_type": "code",
   "execution_count": 64,
   "metadata": {},
   "outputs": [
    {
     "data": {
      "text/plain": [
       "[<matplotlib.lines.Line2D at 0x15bc7ec1a88>]"
      ]
     },
     "execution_count": 64,
     "metadata": {},
     "output_type": "execute_result"
    },
    {
     "data": {
      "image/png": "[encoded data removed]",
      "text/plain": [
       "<Figure size 432x288 with 1 Axes>"
      ]
     },
     "metadata": {
      "needs_background": "light"
     },
     "output_type": "display_data"
    }
   ],
   "source": [
    "plt.plot(day_new, scaler.inverse_transform(df1[1159:]))\n",
    "plt.plot(day_pred, scaler.inverse_transform(lst_output))"
   ]
  },
  {
   "cell_type": "code",
   "execution_count": null,
   "metadata": {},
   "outputs": [],
   "source": []
  }
 ],
 "metadata": {
  "kernelspec": {
   "display_name": "Python 3",
   "language": "python",
   "name": "python3"
  },
  "language_info": {
   "codemirror_mode": {
    "name": "ipython",
    "version": 3
   },
   "file_extension": ".py",
   "mimetype": "text/x-python",
   "name": "python",
   "nbconvert_exporter": "python",
   "pygments_lexer": "ipython3",
   "version": "3.7.9"
  }
 },
 "nbformat": 4,
 "nbformat_minor": 4
}
